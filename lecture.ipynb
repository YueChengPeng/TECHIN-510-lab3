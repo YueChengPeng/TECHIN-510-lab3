{
 "cells": [
  {
   "cell_type": "code",
   "execution_count": 2,
   "metadata": {},
   "outputs": [],
   "source": [
    "import sqlite3\n",
    "\n",
    "# create a database called week3.sqlite\n",
    "# isolation_level=None allows for autocommit\n",
    "con = sqlite3.connect('week3_lab.sqlite', isolation_level=None)\n",
    "\n",
    "# create a cursor object; cursor is like the highlight (current selection) of cells in a spreadsheet\n",
    "cur = con.cursor()"
   ]
  },
  {
   "cell_type": "code",
   "execution_count": 3,
   "metadata": {},
   "outputs": [
    {
     "data": {
      "text/plain": [
       "<sqlite3.Cursor at 0x7fc2f80cd490>"
      ]
     },
     "execution_count": 3,
     "metadata": {},
     "output_type": "execute_result"
    }
   ],
   "source": [
    "# all capital letters for SQL commands; except for table and column names\n",
    "# DROP TABLE IF EXISTS is a safety check to prevent errors\n",
    "# DROP TABLE command is used to delete a table from the database\n",
    "cur.execute(\"\"\"DROP TABLE IF EXISTS movies\"\"\")"
   ]
  },
  {
   "cell_type": "code",
   "execution_count": 4,
   "metadata": {},
   "outputs": [
    {
     "data": {
      "text/plain": [
       "<sqlite3.Cursor at 0x7fc2f80cd490>"
      ]
     },
     "execution_count": 4,
     "metadata": {},
     "output_type": "execute_result"
    }
   ],
   "source": [
    "# table name: movies, and has many columns\n",
    "# id: primary key, unique identifier for each row (like uuid)\n",
    "# title: text, string\n",
    "# always has created_at and updated_at\n",
    "\n",
    "# cur.execute(q): q is a string that contains SQL commands\n",
    "\n",
    "q = \"\"\"\n",
    "CREATE TABLE IF NOT EXISTS movies (\n",
    "    id INTEGER PRIMARY KEY,\n",
    "    title TEXT,\n",
    "    year INTEGER,\n",
    "    rating FLOAT,\n",
    "    is_watched BOOLEAN DEFAULT 0,\n",
    "    created_at DATETIME DEFAULT CURRENT_TIMESTAMP,\n",
    "    updated_at DATETIME DEFAULT CURRENT_TIMESTAMP\n",
    ")\n",
    "\"\"\"\n",
    "cur.execute(q)"
   ]
  },
  {
   "cell_type": "code",
   "execution_count": 5,
   "metadata": {},
   "outputs": [],
   "source": [
    "# Check if the table is created\n",
    "q = \"\"\"\n",
    "SELECT\n",
    "    name\n",
    "FROM\n",
    "    sqlite_master\n",
    "\"\"\"\n",
    "res = cur.execute(q)"
   ]
  },
  {
   "cell_type": "code",
   "execution_count": 6,
   "metadata": {},
   "outputs": [
    {
     "data": {
      "text/plain": [
       "('movies',)"
      ]
     },
     "execution_count": 6,
     "metadata": {},
     "output_type": "execute_result"
    }
   ],
   "source": [
    "# fetch the first row\n",
    "res.fetchone()\n",
    "# fetch all\n",
    "# res.fetchall()"
   ]
  },
  {
   "cell_type": "code",
   "execution_count": 7,
   "metadata": {},
   "outputs": [
    {
     "data": {
      "text/plain": [
       "[]"
      ]
     },
     "execution_count": 7,
     "metadata": {},
     "output_type": "execute_result"
    }
   ],
   "source": [
    "# * means all columns (column values)\n",
    "q = \"\"\"\n",
    "SELECT\n",
    "    *\n",
    "FROM\n",
    "    movies\n",
    "\"\"\"\n",
    "res = cur.execute(q)\n",
    "res.fetchall()"
   ]
  },
  {
   "cell_type": "code",
   "execution_count": 8,
   "metadata": {},
   "outputs": [
    {
     "data": {
      "text/plain": [
       "<sqlite3.Cursor at 0x7fc2f80cd490>"
      ]
     },
     "execution_count": 8,
     "metadata": {},
     "output_type": "execute_result"
    }
   ],
   "source": [
    "# insert data\n",
    "# ? automatically clean the string; from SQL injection (do not use f-string in python)\n",
    "\n",
    "q = \"\"\"\n",
    "INSERT INTO \n",
    "    movies (\n",
    "        title,\n",
    "        year,\n",
    "        rating\n",
    "    ) VALUES (?, ?, ?)\n",
    "\"\"\"\n",
    "cur.execute(\n",
    "    q, \n",
    "    ('sss', 1999, 9.9)\n",
    ") # the position goes in correspondingly: \"The Matrix\" -> title (first question mark), 1999 -> year (second question mark), 9.9 -> rating (third question mark)\n",
    "\n",
    "# or:\n",
    "# f-string allows you to insert variables into strings, e.g. f\"hello {name}\"\n",
    "\n",
    "# q = f\"\"\"\n",
    "# INSERT INTO \n",
    "#     movies (\n",
    "#         title,\n",
    "#         year,\n",
    "#         rating\n",
    "#     ) VALUES \n",
    "# (\n",
    "#    'The Matrix', \n",
    "#   {rating}, \n",
    "#   9.9\n",
    "# )\n",
    "# \"\"\"\n",
    "# cur.execute(q)"
   ]
  },
  {
   "cell_type": "code",
   "execution_count": 9,
   "metadata": {},
   "outputs": [
    {
     "data": {
      "text/plain": [
       "[(1, 'sss', 1999, 9.9, 0, '2024-01-23 23:32:53', '2024-01-23 23:32:53')]"
      ]
     },
     "execution_count": 9,
     "metadata": {},
     "output_type": "execute_result"
    }
   ],
   "source": [
    "[x for x in cur.execute(\"\"\"SELECT * FROM movies\"\"\")]"
   ]
  },
  {
   "cell_type": "code",
   "execution_count": 11,
   "metadata": {},
   "outputs": [
    {
     "name": "stdout",
     "output_type": "stream",
     "text": [
      "(1, 'sss', 1999, 9.9, 0, '2024-01-23 23:32:53', '2024-01-23 23:32:53')\n"
     ]
    }
   ],
   "source": [
    "res = cur.execute(\"\"\"SELECT * FROM movies\"\"\")\n",
    "# res.fetchall() the data might be too large to fetch all at once\n",
    "\n",
    "# the best practice when working with large datasets is to use a for loop: work with data line by line\n",
    "for row in res:\n",
    "    print(row)\n"
   ]
  },
  {
   "cell_type": "code",
   "execution_count": 12,
   "metadata": {},
   "outputs": [
    {
     "data": {
      "text/plain": [
       "<sqlite3.Cursor at 0x7fc2f80cd490>"
      ]
     },
     "execution_count": 12,
     "metadata": {},
     "output_type": "execute_result"
    }
   ],
   "source": [
    "data = [\n",
    "    (\"Monty Python Live at the Hollywood Bowl\", 1982, 5.0),\n",
    "    (\"Monty Python's The Meaning of Life\", 1983, 4.5),\n",
    "    (\"Monty Python's Life of Brian\", 1979, 3.9),\n",
    "]\n",
    "\n",
    "# bulk insert (insert many data at once)\n",
    "# e.g. collect data, and insert all at once if the data >100; then clean the tempo data and collect the next 100 data \n",
    "cur.executemany(\"INSERT INTO movies (title, year, rating) VALUES(?, ?, ?)\", data)\n"
   ]
  },
  {
   "cell_type": "code",
   "execution_count": 14,
   "metadata": {},
   "outputs": [
    {
     "name": "stdout",
     "output_type": "stream",
     "text": [
      "(1979, \"Monty Python's Life of Brian\", 3.9)\n",
      "(1982, 'Monty Python Live at the Hollywood Bowl', 5.0)\n",
      "(1983, \"Monty Python's The Meaning of Life\", 4.5)\n",
      "(1999, 'sss', 9.9)\n"
     ]
    }
   ],
   "source": [
    "for row in cur.execute(\"SELECT year, title, rating FROM movies ORDER BY year\"):\n",
    "    print(row)\n"
   ]
  },
  {
   "cell_type": "code",
   "execution_count": 15,
   "metadata": {},
   "outputs": [],
   "source": [
    "import pandas as pd"
   ]
  },
  {
   "cell_type": "code",
   "execution_count": null,
   "metadata": {},
   "outputs": [],
   "source": []
  },
  {
   "cell_type": "code",
   "execution_count": 16,
   "metadata": {},
   "outputs": [],
   "source": [
    "# another way to work with database: pandas\n",
    "data = [\n",
    "    {\"name\": \"leo\"},\n",
    "    {\"name\": \"leo\"},\n",
    "    {\"name\": \"leo\"},\n",
    "    {\"name\": \"leo\"},\n",
    "    {\"name\": \"leo\"},\n",
    "    {\"name\": \"leo\"},\n",
    "    {\"name\": \"leo\"},\n",
    "    {\"name\": \"leo\"},\n",
    "    {\"name\": \"leo\"},\n",
    "    {\"name\": \"leo\"},\n",
    "]\n",
    "# load data into pandas\n",
    "df = pd.DataFrame(data)\n",
    "con = sqlite3.connect('week3_lab.sqlite', isolation_level=None)\n",
    "# create a new table called users\n",
    "df.to_sql(\"users\", con)"
   ]
  },
  {
   "cell_type": "code",
   "execution_count": null,
   "metadata": {},
   "outputs": [],
   "source": []
  }
 ],
 "metadata": {
  "kernelspec": {
   "display_name": "venv",
   "language": "python",
   "name": "python3"
  },
  "language_info": {
   "codemirror_mode": {
    "name": "ipython",
    "version": 3
   },
   "file_extension": ".py",
   "mimetype": "text/x-python",
   "name": "python",
   "nbconvert_exporter": "python",
   "pygments_lexer": "ipython3",
   "version": "3.7.11"
  }
 },
 "nbformat": 4,
 "nbformat_minor": 2
}
